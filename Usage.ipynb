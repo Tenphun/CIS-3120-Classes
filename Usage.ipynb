{
 "cells": [
  {
   "cell_type": "code",
   "execution_count": 1,
   "id": "6b88b4bc-a5c4-436d-9eed-8e95600f6d53",
   "metadata": {
    "editable": true,
    "slideshow": {
     "slide_type": ""
    },
    "tags": []
   },
   "outputs": [],
   "source": [
    "from Animal import Animal"
   ]
  },
  {
   "cell_type": "code",
   "execution_count": 5,
   "id": "738a52e3-faf1-4f92-8835-fed5b5e36dfe",
   "metadata": {
    "editable": true,
    "slideshow": {
     "slide_type": ""
    },
    "tags": []
   },
   "outputs": [
    {
     "name": "stdout",
     "output_type": "stream",
     "text": [
      "hello I am Cassie\n",
      "I am a Bear\n",
      "I am a Female\n",
      "I have this much food: 1\n",
      "I ate 1 food, now I have this much food left: 0\n",
      "I have excreted my waste\n"
     ]
    }
   ],
   "source": [
    "x = Animal(\"Cassie\",\"Bear\", \"Female\", food = 0)\n",
    "#x.talk()\n",
    "x.print_species()\n",
    "x.print_gender()\n",
    "x.get_food()\n",
    "x.eat_food()\n",
    "x.excrete_waste()"
   ]
  }
 ],
 "metadata": {
  "kernelspec": {
   "display_name": "Python 3",
   "language": "python",
   "name": "python3"
  },
  "language_info": {
   "codemirror_mode": {
    "name": "ipython",
    "version": 3
   },
   "file_extension": ".py",
   "mimetype": "text/x-python",
   "name": "python",
   "nbconvert_exporter": "python",
   "pygments_lexer": "ipython3",
   "version": "3.13.1"
  }
 },
 "nbformat": 4,
 "nbformat_minor": 5
}
